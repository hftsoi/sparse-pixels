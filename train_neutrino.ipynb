{
 "cells": [
  {
   "cell_type": "code",
   "execution_count": null,
   "id": "442e0d68",
   "metadata": {},
   "outputs": [],
   "source": [
    "import numpy as np\n",
    "import matplotlib.pyplot as plt\n",
    "import h5py\n",
    "from sparsepixels.utils import *\n",
    "\n",
    "#### ---> extract raw images and necessary info from official samples\n",
    "#run_batch(which=\"inclusive\", overwrite_outputs=True, store_all=True)\n",
    "#run_batch(which=\"nue\", overwrite_outputs=True, store_all=True)\n",
    "\n",
    "#### ---> slim files with filtering by min signal hits\n",
    "#incl_in = [f\"datasets/neutrino/data_inclusive_plane{p}.h5\" for p in (0,1,2)]\n",
    "#incl_out = [f\"datasets/neutrino/data_inclusive_plane{p}_slim_500.h5\" for p in (0,1,2)]\n",
    "#nue_in = [f\"datasets/neutrino/data_nue_plane{p}.h5\" for p in (0,1,2)]\n",
    "#nue_out = [f\"datasets/neutrino/data_nue_plane{p}_slim_500.h5\" for p in (0,1,2)]\n",
    "#for inp, outp in zip(incl_in, incl_out):\n",
    "    #write_slim_plane_ge_threshold(inp, outp, threshold=500, overwrite=True, verbose=True)\n",
    "#for inp, outp in zip(nue_in, nue_out):\n",
    "    #write_slim_plane_ge_threshold(inp, outp, threshold=500, overwrite=True, verbose=True)\n",
    "\n",
    "#### ---> extract sig/bkg windows into training-ready files\n",
    "#write_patches_from_slim_file(\"datasets/neutrino/data_inclusive_plane2_slim_500.h5\", win_t=256, win_w=512, num_bkg=5)\n",
    "#write_patches_from_slim_file(\"datasets/neutrino/data_inclusive_plane0_slim_500.h5\", win_t=256, win_w=512, num_bkg=5)\n",
    "#write_patches_from_slim_file(\"datasets/neutrino/data_inclusive_plane1_slim_500.h5\", win_t=256, win_w=512, num_bkg=5)\n",
    "#write_patches_from_slim_file(\"datasets/neutrino/data_nue_plane0_slim_500.h5\", win_t=256, win_w=512, num_bkg=5)\n",
    "#write_patches_from_slim_file(\"datasets/neutrino/data_nue_plane1_slim_500.h5\", win_t=256, win_w=512, num_bkg=5)\n",
    "#write_patches_from_slim_file(\"datasets/neutrino/data_nue_plane2_slim_500.h5\", win_t=256, win_w=512, num_bkg=5)"
   ]
  },
  {
   "cell_type": "code",
   "execution_count": null,
   "id": "621f6c1a",
   "metadata": {},
   "outputs": [],
   "source": [
    "#plot_plane_sample(\"datasets/neutrino/data_inclusive_plane2_slim_500.h5\", idx=0, p='raw',   jet_vmin=0, jet_vmax=100, cmap='gist_ncar')\n",
    "#plot_plane_sample(\"datasets/neutrino/data_inclusive_plane2_slim_500.h5\", idx=0, p='sig', point_size=3)\n",
    "#plot_plane_sample(\"datasets/neutrino/data_inclusive_plane2_slim_500.h5\", idx=0, p='bkg', point_size=3)\n",
    "#plot_plane_sample(\"datasets/neutrino/data_inclusive_plane2_slim_500.h5\", idx=0, p='sigbkg', point_size=3)\n",
    "\n",
    "#plot_plane_sample(\"datasets/neutrino/data_nue_plane2_slim_500.h5\", idx=1, p='raw',   jet_vmin=0, jet_vmax=100, cmap='gist_ncar')\n",
    "#plot_plane_sample(\"datasets/neutrino/data_nue_plane2_slim_500.h5\", idx=1, p='sig', point_size=3)\n",
    "#plot_plane_sample(\"datasets/neutrino/data_nue_plane2_slim_500.h5\", idx=1, p='bkg', point_size=3)\n",
    "#plot_plane_sample(\"datasets/neutrino/data_nue_plane2_slim_500.h5\", idx=1, p='sigbkg', point_size=3)\n",
    "\n",
    "#for i in range(10):\n",
    "    #plot_plane_sample(\"datasets/neutrino/data_inclusive_plane2_slim_500.h5\", idx=i, p='raw',   jet_vmin=0, jet_vmax=100, cmap='gist_ncar')\n",
    "    #plot_plane_sample(\"datasets/neutrino/data_inclusive_plane2_slim_500.h5\", idx=i, p='sigbkg', point_size=3)\n",
    "    #plot_plane_sample(\"datasets/neutrino/data_nue_plane2_slim_500.h5\", idx=i, p='raw',   jet_vmin=0, jet_vmax=100, cmap='gist_ncar')\n",
    "    #plot_plane_sample(\"datasets/neutrino/data_nue_plane2_slim_500.h5\", idx=i, p='sigbkg', point_size=3)\n",
    "\n",
    "run_window_demo(\"datasets/neutrino/data_inclusive_plane2_slim_500.h5\", first_N=5, win_t=256, win_w=512, num_bkg=5, cmap='gist_ncar', vmin=0, vmax=100)\n",
    "#run_window_demo(\"datasets/neutrino/data_nue_plane2_slim_500.h5\", first_N=5, win_t=256, win_w=512, num_bkg=5, cmap='gist_ncar', vmin=0, vmax=100)"
   ]
  },
  {
   "cell_type": "code",
   "execution_count": null,
   "id": "1721be45",
   "metadata": {},
   "outputs": [],
   "source": [
    "preview_patches(\"datasets/neutrino/data_inclusive_plane2_slim_500_patches_sig_t256w512.h5\", max_examples=5, start_idx=0, cmap='gist_ncar', vmin=0, vmax=100)\n",
    "preview_patches(\"datasets/neutrino/data_inclusive_plane2_slim_500_patches_bkg_t256w512.h5\", max_examples=5, start_idx=0, cmap='gist_ncar', vmin=0, vmax=100)"
   ]
  },
  {
   "cell_type": "code",
   "execution_count": null,
   "id": "9284ff54",
   "metadata": {},
   "outputs": [],
   "source": []
  },
  {
   "cell_type": "code",
   "execution_count": null,
   "id": "b3bc607d",
   "metadata": {},
   "outputs": [],
   "source": []
  },
  {
   "cell_type": "code",
   "execution_count": null,
   "id": "6c9c83eb",
   "metadata": {},
   "outputs": [],
   "source": []
  },
  {
   "cell_type": "code",
   "execution_count": null,
   "id": "23d0542d",
   "metadata": {},
   "outputs": [],
   "source": []
  },
  {
   "cell_type": "code",
   "execution_count": null,
   "id": "df6ca022",
   "metadata": {},
   "outputs": [],
   "source": []
  },
  {
   "cell_type": "code",
   "execution_count": null,
   "id": "12afae0d",
   "metadata": {},
   "outputs": [],
   "source": []
  },
  {
   "cell_type": "code",
   "execution_count": null,
   "id": "9f4d4530",
   "metadata": {},
   "outputs": [],
   "source": []
  },
  {
   "cell_type": "code",
   "execution_count": null,
   "id": "b4391553",
   "metadata": {},
   "outputs": [],
   "source": []
  }
 ],
 "metadata": {
  "kernelspec": {
   "display_name": "sparse",
   "language": "python",
   "name": "python3"
  },
  "language_info": {
   "codemirror_mode": {
    "name": "ipython",
    "version": 3
   },
   "file_extension": ".py",
   "mimetype": "text/x-python",
   "name": "python",
   "nbconvert_exporter": "python",
   "pygments_lexer": "ipython3",
   "version": "3.10.5"
  }
 },
 "nbformat": 4,
 "nbformat_minor": 5
}

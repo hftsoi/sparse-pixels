{
 "cells": [
  {
   "cell_type": "code",
   "execution_count": null,
   "id": "442e0d68",
   "metadata": {},
   "outputs": [],
   "source": [
    "import numpy as np\n",
    "import matplotlib.pyplot as plt\n",
    "import h5py\n",
    "from sparsepixels.utils import *\n",
    "\n",
    "#run_batch(which=\"inclusive\", overwrite_outputs=True, store_all=False, sig_hit_threshold=50)\n",
    "#run_batch(which=\"inclusive\", overwrite_outputs=True, store_all=True)\n",
    "#run_batch(which=\"nue\", overwrite_outputs=True, store_all=True)"
   ]
  },
  {
   "cell_type": "code",
   "execution_count": null,
   "id": "621f6c1a",
   "metadata": {},
   "outputs": [],
   "source": [
    "#plot_plane_sample(\"datasets/neutrino/data_inclusive_plane2_slim_500.h5\", idx=0, p='raw',   jet_vmin=0, jet_vmax=100, cmap='gist_ncar')\n",
    "#plot_plane_sample(\"datasets/neutrino/data_inclusive_plane2_slim_500.h5\", idx=0, p='sig', point_size=3)\n",
    "#plot_plane_sample(\"datasets/neutrino/data_inclusive_plane2_slim_500.h5\", idx=0, p='bkg', point_size=3)\n",
    "#plot_plane_sample(\"datasets/neutrino/data_inclusive_plane2_slim_500.h5\", idx=0, p='sigbkg', point_size=3)\n",
    "\n",
    "#plot_plane_sample(\"datasets/neutrino/data_nue_plane2_slim_500.h5\", idx=1, p='raw',   jet_vmin=0, jet_vmax=100, cmap='gist_ncar')\n",
    "#plot_plane_sample(\"datasets/neutrino/data_nue_plane2_slim_500.h5\", idx=1, p='sig', point_size=3)\n",
    "#plot_plane_sample(\"datasets/neutrino/data_nue_plane2_slim_500.h5\", idx=1, p='bkg', point_size=3)\n",
    "#plot_plane_sample(\"datasets/neutrino/data_nue_plane2_slim_500.h5\", idx=1, p='sigbkg', point_size=3)\n",
    "\n",
    "for i in range(10):\n",
    "    plot_plane_sample(\"datasets/neutrino/data_inclusive_plane2_slim_500.h5\", idx=i, p='raw',   jet_vmin=0, jet_vmax=100, cmap='gist_ncar')\n",
    "    plot_plane_sample(\"datasets/neutrino/data_inclusive_plane2_slim_500.h5\", idx=i, p='sigbkg', point_size=3)\n",
    "    #plot_plane_sample(\"datasets/neutrino/data_nue_plane2_slim_500.h5\", idx=i, p='raw',   jet_vmin=0, jet_vmax=100, cmap='gist_ncar')\n",
    "    #plot_plane_sample(\"datasets/neutrino/data_nue_plane2_slim_500.h5\", idx=i, p='sigbkg', point_size=3)"
   ]
  },
  {
   "cell_type": "code",
   "execution_count": null,
   "id": "d3564a58",
   "metadata": {},
   "outputs": [],
   "source": [
    "run_window_demo(\n",
    "    \"datasets/neutrino/data_nue_plane2_slim_500.h5\",\n",
    "    first_N=5, win_t=256, win_w=512, num_bkg=5,\n",
    "    prefer_zero_signal_bkg=True,\n",
    "    cmap='gist_ncar', vmin=0, vmax=100,\n",
    "    rng_seed=123\n",
    ")"
   ]
  },
  {
   "cell_type": "code",
   "execution_count": null,
   "id": "8ae11041",
   "metadata": {},
   "outputs": [],
   "source": []
  },
  {
   "cell_type": "code",
   "execution_count": null,
   "id": "9a60d8a8",
   "metadata": {},
   "outputs": [],
   "source": []
  },
  {
   "cell_type": "code",
   "execution_count": null,
   "id": "1721be45",
   "metadata": {},
   "outputs": [],
   "source": []
  },
  {
   "cell_type": "code",
   "execution_count": null,
   "id": "9284ff54",
   "metadata": {},
   "outputs": [],
   "source": []
  },
  {
   "cell_type": "code",
   "execution_count": null,
   "id": "b3bc607d",
   "metadata": {},
   "outputs": [],
   "source": []
  },
  {
   "cell_type": "code",
   "execution_count": null,
   "id": "6c9c83eb",
   "metadata": {},
   "outputs": [],
   "source": []
  },
  {
   "cell_type": "code",
   "execution_count": null,
   "id": "23d0542d",
   "metadata": {},
   "outputs": [],
   "source": []
  },
  {
   "cell_type": "code",
   "execution_count": null,
   "id": "df6ca022",
   "metadata": {},
   "outputs": [],
   "source": []
  },
  {
   "cell_type": "code",
   "execution_count": null,
   "id": "12afae0d",
   "metadata": {},
   "outputs": [],
   "source": []
  },
  {
   "cell_type": "code",
   "execution_count": null,
   "id": "9f4d4530",
   "metadata": {},
   "outputs": [],
   "source": []
  },
  {
   "cell_type": "code",
   "execution_count": null,
   "id": "b4391553",
   "metadata": {},
   "outputs": [],
   "source": []
  }
 ],
 "metadata": {
  "kernelspec": {
   "display_name": "sparse",
   "language": "python",
   "name": "python3"
  },
  "language_info": {
   "codemirror_mode": {
    "name": "ipython",
    "version": 3
   },
   "file_extension": ".py",
   "mimetype": "text/x-python",
   "name": "python",
   "nbconvert_exporter": "python",
   "pygments_lexer": "ipython3",
   "version": "3.10.5"
  }
 },
 "nbformat": 4,
 "nbformat_minor": 5
}

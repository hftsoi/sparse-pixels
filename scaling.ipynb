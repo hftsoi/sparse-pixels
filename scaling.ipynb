{
 "cells": [
  {
   "cell_type": "code",
   "execution_count": null,
   "id": "bed11e65",
   "metadata": {},
   "outputs": [],
   "source": [
    "import numpy as np\n",
    "import tensorflow as tf\n",
    "import matplotlib.pyplot as plt\n",
    "import matplotlib.colors as colors\n",
    "from sklearn.model_selection import train_test_split\n",
    "from sklearn.metrics import roc_curve, auc, accuracy_score\n",
    "from sklearn.preprocessing import StandardScaler, LabelEncoder\n",
    "from tensorflow.keras.layers import *\n",
    "from tensorflow.keras import models, Model\n",
    "from tensorflow.keras.initializers import RandomNormal\n",
    "import qkeras\n",
    "from qkeras import *\n",
    "from sparsepixels.layers import *\n",
    "from sparsepixels.utils import *\n",
    "import h5py\n",
    "import glob\n",
    "import os"
   ]
  },
  {
   "cell_type": "markdown",
   "id": "2840ca1b",
   "metadata": {},
   "source": [
    "## input reduction"
   ]
  },
  {
   "cell_type": "code",
   "execution_count": null,
   "id": "c8e2f7d4",
   "metadata": {},
   "outputs": [],
   "source": [
    "# vsynth results\n",
    "n_max_pixels = [10,15,20,25,30,35,40,45,50]\n",
    "\n",
    "reduction_dsp_100 = [0,0,0,0,0,0,0,0,0]\n",
    "reduction_ff_100 = [2504,2584,2666,2746,2826,2908,2988,3068,3148]\n",
    "reduction_lut_100 = [10506,10506,10506,10506,10506,10508,10508,10508,10508]\n",
    "reduction_latency_100 = [22,32,42,52,62,72,82,92,102]\n",
    "\n",
    "reduction_dsp_200 = [0,0,0,0,0,0,0,0,0]\n",
    "reduction_ff_200 = [4052,4132,4215,4295,4375,4458,4538,4618,4698]\n",
    "reduction_lut_200 = [21618,21618,21618,21618,21618,21620,21620,21620,21620]\n",
    "reduction_latency_200 = [23,33,43,53,63,73,83,93,103]\n",
    "\n",
    "reduction_dsp_500 = []\n",
    "reduction_ff_500 = []\n",
    "reduction_lut_500 = []\n",
    "reduction_latency_500 = []\n",
    "\n",
    "reduction_dsp_1000 = []\n",
    "reduction_ff_1000 = []\n",
    "reduction_lut_1000 = []\n",
    "reduction_latency_1000 = []\n",
    "\n",
    "reduction_dsp_1500 = []\n",
    "reduction_ff_1500 = []\n",
    "reduction_lut_1500 = []\n",
    "reduction_latency_1500 = []\n",
    "\n",
    "reduction_dsp_2000 = []\n",
    "reduction_ff_2000 = []\n",
    "reduction_lut_2000 = []\n",
    "reduction_latency_2000 = []\n",
    "\n",
    "reduction_dsp_3000 = []\n",
    "reduction_ff_3000 = []\n",
    "reduction_lut_3000 = []\n",
    "reduction_latency_3000 = []\n",
    "\n",
    "reduction_dsp_4000 = []\n",
    "reduction_ff_4000 = []\n",
    "reduction_lut_4000 = []\n",
    "reduction_latency_4000 = []"
   ]
  },
  {
   "cell_type": "code",
   "execution_count": null,
   "id": "9e751a79",
   "metadata": {},
   "outputs": [],
   "source": [
    "n_in = [100,200]\n",
    "def plot_reduction(x, y, n_in, name):\n",
    "    plt.figure(figsize=(6,5))\n",
    "    for i in range(len(y)):\n",
    "        plt.plot(x, y[i], marker='o', label=f'Input size = {n_in[i]}', linewidth=1, markersize=4)\n",
    "    plt.title(f'{name} vs $N_{{\\\\text{{max pixels}}}}$', fontsize=16)\n",
    "    plt.xlabel(f'$N_{{\\\\text{{max pixels}}}}$', fontsize=16)\n",
    "    plt.xticks(fontsize=14)\n",
    "    plt.yticks(fontsize=14)\n",
    "    if name == 'Latency':\n",
    "        plt.ylabel(name + ' [# clocks]', fontsize=16)\n",
    "    else:\n",
    "        plt.ylabel(name, fontsize=16)\n",
    "    plt.legend(fontsize=10)\n",
    "    plt.grid(True)\n",
    "    plt.tight_layout()\n",
    "\n",
    "plot_reduction(x = n_max_pixels,\n",
    "               y = [reduction_latency_100, reduction_latency_200],\n",
    "               n_in = n_in,\n",
    "               name = 'Latency')\n",
    "\n",
    "plot_reduction(x = n_max_pixels,\n",
    "               y = [reduction_ff_100, reduction_ff_200],\n",
    "               n_in = n_in,\n",
    "               name = 'FFs')\n",
    "\n",
    "plot_reduction(x = n_max_pixels,\n",
    "               y = [reduction_lut_100, reduction_lut_200],\n",
    "               n_in = n_in,\n",
    "               name = 'LUTs')"
   ]
  },
  {
   "cell_type": "markdown",
   "id": "04419b5c",
   "metadata": {},
   "source": [
    "## sparse conv"
   ]
  },
  {
   "cell_type": "code",
   "execution_count": null,
   "id": "40a34943",
   "metadata": {},
   "outputs": [],
   "source": []
  },
  {
   "cell_type": "code",
   "execution_count": null,
   "id": "5c3cb70b",
   "metadata": {},
   "outputs": [],
   "source": []
  },
  {
   "cell_type": "markdown",
   "id": "d5ec3897",
   "metadata": {},
   "source": [
    "## sparse relu"
   ]
  },
  {
   "cell_type": "code",
   "execution_count": null,
   "id": "8c9f567a",
   "metadata": {},
   "outputs": [],
   "source": []
  },
  {
   "cell_type": "code",
   "execution_count": null,
   "id": "f5091d1a",
   "metadata": {},
   "outputs": [],
   "source": []
  },
  {
   "cell_type": "markdown",
   "id": "b7fd258e",
   "metadata": {},
   "source": [
    "## sparse avg pool"
   ]
  },
  {
   "cell_type": "code",
   "execution_count": null,
   "id": "4843a435",
   "metadata": {},
   "outputs": [],
   "source": []
  },
  {
   "cell_type": "code",
   "execution_count": null,
   "id": "bca96af3",
   "metadata": {},
   "outputs": [],
   "source": []
  },
  {
   "cell_type": "markdown",
   "id": "3d20173f",
   "metadata": {},
   "source": [
    "## sparse flatten"
   ]
  },
  {
   "cell_type": "code",
   "execution_count": null,
   "id": "57e2d607",
   "metadata": {},
   "outputs": [],
   "source": []
  },
  {
   "cell_type": "code",
   "execution_count": null,
   "id": "bc35b22a",
   "metadata": {},
   "outputs": [],
   "source": []
  },
  {
   "cell_type": "code",
   "execution_count": null,
   "id": "bbbb984c",
   "metadata": {},
   "outputs": [],
   "source": []
  }
 ],
 "metadata": {
  "kernelspec": {
   "display_name": "sparse",
   "language": "python",
   "name": "python3"
  },
  "language_info": {
   "codemirror_mode": {
    "name": "ipython",
    "version": 3
   },
   "file_extension": ".py",
   "mimetype": "text/x-python",
   "name": "python",
   "nbconvert_exporter": "python",
   "pygments_lexer": "ipython3",
   "version": "3.10.5"
  }
 },
 "nbformat": 4,
 "nbformat_minor": 5
}

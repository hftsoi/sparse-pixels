{
 "cells": [
  {
   "cell_type": "code",
   "execution_count": null,
   "id": "37b06104",
   "metadata": {},
   "outputs": [],
   "source": [
    "import numpy as np\n",
    "import tensorflow as tf\n",
    "import matplotlib.pyplot as plt\n",
    "import matplotlib.colors as colors\n",
    "from sklearn.model_selection import train_test_split\n",
    "from sklearn.metrics import roc_curve, auc, accuracy_score\n",
    "from sklearn.preprocessing import StandardScaler, LabelEncoder\n",
    "from tensorflow.keras.layers import *\n",
    "from tensorflow.keras import models, Model\n",
    "from tensorflow.keras.initializers import RandomNormal\n",
    "import qkeras\n",
    "from qkeras import *\n",
    "from sparsepixels.layers import *\n",
    "from sparsepixels.utils import *\n",
    "import h5py\n",
    "import glob\n",
    "import os"
   ]
  },
  {
   "cell_type": "code",
   "execution_count": null,
   "id": "40535f74",
   "metadata": {},
   "outputs": [],
   "source": [
    "def build_dummy():\n",
    "    quantizer = quantized_bits(6, 0, alpha=1)\n",
    "\n",
    "    x_in = keras.Input(shape=(10, 20, 1), name='x_in')\n",
    "    x = QConv2D(filters=2, kernel_size=(3, 3), use_bias=True, name='conv1',\n",
    "                padding='same', strides=1,\n",
    "                kernel_quantizer=quantizer, bias_quantizer=quantizer,\n",
    "                kernel_initializer=RandomNormal(mean=0, stddev=1),\n",
    "                bias_initializer=RandomNormal(mean=0, stddev=1))(x_in)\n",
    "\n",
    "    return keras.Model(x_in, x, name='dummy')\n",
    "\n",
    "model_dummy = build_dummy()\n",
    "model_dummy.compile(optimizer=tf.keras.optimizers.legacy.Adam(learning_rate=0.001),\n",
    "                    loss='categorical_crossentropy', metrics = ['accuracy'])\n",
    "print(model_dummy.summary())"
   ]
  },
  {
   "cell_type": "code",
   "execution_count": null,
   "id": "886b5faf",
   "metadata": {},
   "outputs": [],
   "source": [
    "import hls4ml\n",
    "config = hls4ml.utils.config_from_keras_model(model_dummy, granularity='name', backend='Vitis')\n",
    "config\n",
    "\n",
    "model_dummy_hls = hls4ml.converters.convert_from_keras_model(\n",
    "    model_dummy,\n",
    "    hls_config=config,\n",
    "    project_name='hls_dummy',\n",
    "    backend='Vitis',\n",
    "    output_dir='hls_proj/scaling/dummy',\n",
    "    part='xcu250-figd2104-2L-e',\n",
    "    #io_type='io_stream',\n",
    "    io_type='io_parallel',\n",
    ")\n",
    "\n",
    "model_dummy_hls.compile()\n",
    "model_dummy_hls.write()"
   ]
  },
  {
   "cell_type": "code",
   "execution_count": null,
   "id": "3242c9eb",
   "metadata": {},
   "outputs": [],
   "source": [
    "import numpy as np\n",
    "numbers = np.random.rand(100) * 2\n",
    "print(' '.join(f'{x:.4g}' for x in numbers))"
   ]
  }
 ],
 "metadata": {
  "kernelspec": {
   "display_name": "sparse",
   "language": "python",
   "name": "python3"
  },
  "language_info": {
   "codemirror_mode": {
    "name": "ipython",
    "version": 3
   },
   "file_extension": ".py",
   "mimetype": "text/x-python",
   "name": "python",
   "nbconvert_exporter": "python",
   "pygments_lexer": "ipython3",
   "version": "3.10.5"
  }
 },
 "nbformat": 4,
 "nbformat_minor": 5
}
